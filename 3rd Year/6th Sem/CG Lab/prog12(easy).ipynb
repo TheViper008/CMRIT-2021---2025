{
 "cells": [
  {
   "cell_type": "code",
   "execution_count": null,
   "id": "3c0cff56-db35-4779-a82f-daa52df94645",
   "metadata": {},
   "outputs": [],
   "source": []
  }
 ],
 "metadata": {
  "kernelspec": {
   "display_name": "",
   "name": ""
  },
  "language_info": {
   "name": ""
  }
 },
 "nbformat": 4,
 "nbformat_minor": 5
}
