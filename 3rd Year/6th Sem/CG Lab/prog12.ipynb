{
 "cells": [
  {
   "cell_type": "code",
   "execution_count": null,
   "metadata": {},
   "outputs": [],
   "source": [
    "import cv2\n",
    "import matplotlib.pyplot as plt\n",
    "\n",
    "# Load the image\n",
    "image_path = 'cricket.jpg'\n",
    "image = cv2.imread(image_path)\n",
    "\n",
    "face_cascade = cv2.CascadeClassifier(cv2.data.haarcascades + 'haarcascade_frontalface_default.xml')\n",
    "\n",
    "gray_image = cv2.cvtColor(image, cv2.COLOR_BGR2GRAY)\n",
    "\n",
    "# Detect faces in the image\n",
    "faces = face_cascade.detectMultiScale(gray_image, scaleFactor=1.1, minNeighbors=5, minSize=(30, 30))\n",
    "\n",
    "# Initialize a list to store cropped faces\n",
    "cropped_faces = []\n",
    "\n",
    "# Draw rectangles around the detected faces and crop them\n",
    "for (x, y, w, h) in faces:\n",
    "    cv2.rectangle(image, (x, y), (x+w, y+h), (255, 0, 0), 2)\n",
    "    cropped_faces.append(image[y:y+h, x:x+w])\n",
    "\n",
    "# Display each cropped face separately\n",
    "plt.figure(figsize=(12, 6))\n",
    "for i, face in enumerate(cropped_faces):\n",
    "    plt.subplot(1, len(cropped_faces), i + 1)\n",
    "    plt.imshow(cv2.cvtColor(face, cv2.COLOR_BGR2RGB))\n",
    "    plt.axis('off')\n",
    "    plt.title(f'Face {i + 1}')\n",
    "plt.tight_layout()\n",
    "plt.show()"
   ]
  }
 ],
 "metadata": {
  "language_info": {
   "name": "python"
  }
 },
 "nbformat": 4,
 "nbformat_minor": 2
}
