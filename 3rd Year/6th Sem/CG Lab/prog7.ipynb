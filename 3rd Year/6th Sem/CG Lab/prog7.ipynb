{
 "cells": [
  {
   "cell_type": "code",
   "execution_count": null,
   "metadata": {},
   "outputs": [],
   "source": [
    "import cv2\n",
    "import matplotlib.pyplot as plt\n",
    "image=cv2.imread('index.jpg')\n",
    "image_mat=cv2.cvtColor(image,cv2.COLOR_BGR2RGB)\n",
    "ht,wd,c=image.shape\n",
    "midy=ht//2\n",
    "midx=wd//2\n",
    "plt.imshow(image_mat)\n",
    "tl=image_mat[:midy,:midx]\n",
    "tr=image_mat[:midy,midx:]\n",
    "bl=image_mat[midy:,:midx]\n",
    "br=image_mat[midy:,midx:]\n",
    "fig,axs=plt.subplots(2,2)\n",
    "l_title=[\"Top left\",\"Top right\",\"bottom left\",\"bottom right\"]\n",
    "l_var=[tl,tr,bl,br]\n",
    "k=0\n",
    "for i in range(2):\n",
    "    for j in range(2):\n",
    "       axs[i,j].imshow(l_var[k])\n",
    "       axs[i,j].set_title(l_title[k])\n",
    "       axs[i,j].axis(\"off\")\n",
    "       k+=1\n",
    "       \n",
    "\n",
    "#plt.axis(\"off\")\n",
    "plt.show()"
   ]
  }
 ],
 "metadata": {
  "language_info": {
   "name": "python"
  }
 },
 "nbformat": 4,
 "nbformat_minor": 2
}
