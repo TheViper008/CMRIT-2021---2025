{
 "cells": [
  {
   "cell_type": "code",
   "execution_count": null,
   "metadata": {},
   "outputs": [],
   "source": [
    "import cv2\n",
    "import numpy as np\n",
    "import matplotlib.pyplot as plt\n",
    "from skimage.metrics import structural_similarity as ssim\n",
    "\n",
    "image = cv2.imread('index.jpg')\n",
    "image_rgb = cv2.cvtColor(image, cv2.COLOR_BGR2RGB)\n",
    "kernel_size = 9\n",
    "\n",
    "blur_kernel = np.ones((kernel_size, kernel_size), dtype=np.float32) / (kernel_size * kernel_size)\n",
    "\n",
    "blurred = cv2.filter2D(image_rgb, -1, blur_kernel)\n",
    "\n",
    "smooth_kernel = np.array([[2, 2, 2], [2, 10, 2], [2, 2, 2]], dtype=np.float32) / 13\n",
    "\n",
    "smoothed = cv2.filter2D(image_rgb, -1, smooth_kernel)\n",
    "\n",
    "gray_original = cv2.cvtColor(image_rgb, cv2.COLOR_RGB2GRAY)\n",
    "gray_blurred = cv2.cvtColor(blurred, cv2.COLOR_RGB2GRAY)\n",
    "gray_smoothed = cv2.cvtColor(smoothed, cv2.COLOR_RGB2GRAY)\n",
    "\n",
    "ssim_original_blurred, _ = ssim(gray_original, gray_blurred, full=True)\n",
    "ssim_original_smoothed, _ = ssim(gray_original, gray_smoothed, full=True)\n",
    "\n",
    "\n",
    "print(f'SSIM between original and blurred images: {ssim_original_blurred:.4f}')\n",
    "print(f'SSIM between original and smoothed images: {ssim_original_smoothed:.4f}')\n",
    "\n",
    "fig, axs = plt.subplots(1,3, figsize=(12, 10))\n",
    "\n",
    "axs[0].imshow(image_rgb)\n",
    "axs[0].set_title('Original Image')\n",
    "axs[0].axis('off')\n",
    "\n",
    "axs[1].imshow(blurred)\n",
    "axs[1].set_title('Blurred Image')\n",
    "axs[1].axis('off')\n",
    "\n",
    "axs[2].imshow(smoothed)\n",
    "axs[2].set_title('Smoothed Image') \n",
    "axs[2].axis('off')\n",
    "plt.tight_layout()\n",
    "plt.show()"
   ]
  }
 ],
 "metadata": {
  "language_info": {
   "name": "python"
  }
 },
 "nbformat": 4,
 "nbformat_minor": 2
}
