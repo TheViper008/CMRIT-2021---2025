{
 "cells": [
  {
   "cell_type": "code",
   "execution_count": null,
   "metadata": {},
   "outputs": [],
   "source": [
    "import cv2\n",
    "import numpy as np\n",
    "from matplotlib import pyplot as plt\n",
    "\n",
    "image = cv2.imread('index.jpg')\n",
    "image_mat= cv2.cvtColor(image, cv2.COLOR_BGR2RGB)\n",
    "gray_image = cv2.cvtColor(image, cv2.COLOR_BGR2GRAY)\n",
    "sobel_x = np.array([[-1, 0, 1],\n",
    "                    [-2, 0, 2],\n",
    "                    [-1, 0, 1]])\n",
    "\n",
    "sobel_y = np.array([[-1, -2, -1],\n",
    "                    [ 0,  0,  0],\n",
    "                    [ 1,  2,  1]])\n",
    "\n",
    "edges_x = cv2.filter2D(gray_image, -1, sobel_x)\n",
    "edges_y = cv2.filter2D(gray_image, -1, sobel_y)\n",
    "\n",
    "edges = cv2.addWeighted(edges_x, 0.5, edges_y, 0.5, 0)\n",
    "edges_rgb = cv2.cvtColor(edges, cv2.COLOR_BGR2RGB)\n",
    "\n",
    "\n",
    "sobelx = cv2.Sobel(gray_image, cv2.CV_64F, 1, 0, ksize=5)\n",
    "sobely = cv2.Sobel(gray_image, cv2.CV_64F, 0, 1, ksize=5)\n",
    "texture=sobelx+sobely\n",
    "\n",
    "l_title=[\"Original\",\"Edge Detection\",\"Texture Extraction\"]\n",
    "l_var=[image_mat,edges_rgb,texture]\n",
    "\n",
    "fig,axs=plt.subplots(1,3)\n",
    "for i in range(3):\n",
    "    axs[i].imshow(l_var[i])\n",
    "    axs[i].set_title(l_title[i])\n",
    "    \n",
    "plt.show()"
   ]
  }
 ],
 "metadata": {
  "language_info": {
   "name": "python"
  }
 },
 "nbformat": 4,
 "nbformat_minor": 2
}
