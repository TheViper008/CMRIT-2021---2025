{
 "cells": [
  {
   "cell_type": "code",
   "execution_count": null,
   "metadata": {},
   "outputs": [],
   "source": [
    "import cv2\n",
    "import numpy as np\n",
    "import matplotlib.pyplot as plt\n",
    "image=cv2.imread(\"index.jpg\")\n",
    "image_mat=cv2.cvtColor(image,cv2.COLOR_BGR2RGB)\n",
    "ht,wd,c=image.shape\n",
    "center=(wd/2,ht/2)\n",
    "\n",
    "trans=np.float32([[1,0,50],[0,1,50]])\n",
    "scale=np.float32([[2,0,0],[0,2,0]])\n",
    "rotate=cv2.getRotationMatrix2D(center,30,1)\n",
    "\n",
    "im_t=cv2.warpAffine(image_mat,trans,(wd+50,ht+50))\n",
    "im_s=cv2.warpAffine(image_mat,scale,(wd*2,ht*2))\n",
    "im_r=cv2.warpAffine(image_mat,rotate,(wd,ht))\n",
    "fig,axs=plt.subplots(2,2)\n",
    "l_title=[\"original\",\"translated\",\"scaled\",\"rotated\"]\n",
    "l_var=[image_mat,im_t,im_s,im_r]\n",
    "k=0\n",
    "for i in range(2):\n",
    "    for j in range(2):\n",
    "       axs[i,j].imshow(l_var[k])\n",
    "       axs[i,j].set_title(l_title[k])\n",
    "       #axs[i,j].axis(\"off\")\n",
    "       k+=1\n",
    "plt.show()"
   ]
  }
 ],
 "metadata": {
  "language_info": {
   "name": "python"
  }
 },
 "nbformat": 4,
 "nbformat_minor": 2
}
